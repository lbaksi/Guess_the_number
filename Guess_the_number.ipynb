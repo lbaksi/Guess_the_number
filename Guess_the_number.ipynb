{
 "cells": [
  {
   "cell_type": "code",
   "execution_count": 3,
   "metadata": {},
   "outputs": [
    {
     "name": "stdout",
     "output_type": "stream",
     "text": [
      "84\n",
      "65  is lower than the number\n",
      "90 is higher than number\n",
      "5  is lower than the number\n",
      "45  is lower than the number\n",
      "Correct\n"
     ]
    }
   ],
   "source": [
    "## import random to generate a random number\n",
    "## define your range\n",
    "## ask user to guess this randomly generated number -  user will input\n",
    "## the input should be a number - add int to the command line\n",
    "## compare user_guess to the random generated number\n",
    "## if correct, print 'Correct'\n",
    "## if wrong, check if it is higher or lower and print the comparison\n",
    "## keep asking the number, it should be in a \"while True\" loop\n",
    "\n",
    "import random\n",
    "random_number = random.randint(1,99)\n",
    "print(random_number)\n",
    "\n",
    "while True: \n",
    "    user_guess =int(input('Guess the random number'))\n",
    "    if user_guess > random_number:\n",
    "        print(user_guess, 'is higher than number')\n",
    "        \n",
    "    elif user_guess < random_number:\n",
    "        print(user_guess, ' is lower than the number')\n",
    "\n",
    "    else:\n",
    "        print('Correct')\n",
    "        break"
   ]
  }
 ],
 "metadata": {
  "kernelspec": {
   "display_name": "Python 3",
   "language": "python",
   "name": "python3"
  },
  "language_info": {
   "codemirror_mode": {
    "name": "ipython",
    "version": 3
   },
   "file_extension": ".py",
   "mimetype": "text/x-python",
   "name": "python",
   "nbconvert_exporter": "python",
   "pygments_lexer": "ipython3",
   "version": "3.11.2"
  },
  "orig_nbformat": 4
 },
 "nbformat": 4,
 "nbformat_minor": 2
}
